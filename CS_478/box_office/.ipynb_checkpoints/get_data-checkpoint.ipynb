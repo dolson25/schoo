{
 "cells": [
  {
   "cell_type": "code",
   "execution_count": 1,
   "metadata": {
    "collapsed": false
   },
   "outputs": [
    {
     "name": "stdout",
     "output_type": "stream",
     "text": [
      "[]\n",
      "['Foreign']\n",
      "['N/A']\n",
      "['Not Yet Rated']\n",
      "['Asia Releasing']\n",
      "['June 7, 2013']\n",
      "['1 hrs. 27 min.']\n",
      "['1 Mile Above (2013) - Box Office Mojo']\n",
      "[]\n",
      "[]\n",
      "[]\n",
      "[]\n",
      "[]\n",
      "[]\n"
     ]
    }
   ],
   "source": [
    "from lxml import html\n",
    "import requests\n",
    "import csv\n",
    "# data extraction example from movie title: the a-team\n",
    "\n",
    "my_file = open('data/MovieLinks-short.txt', 'rb')\n",
    "for line in my_file:\n",
    "\tmy_list = line.strip().split(',')\n",
    "\n",
    "list_of_links = []\n",
    "for movie in my_list:\n",
    "\tlist_of_links.append('http://www.boxofficemojo.com' + movie[1:-1])\n",
    "\t\n",
    "for link in list_of_links:\n",
    "\tpage = requests.get(link)\n",
    "\ttree = html.fromstring(page.text)\n",
    "\t\n",
    "\t'''\n",
    "\tTODO\n",
    "\t-Still need to scrap-\n",
    "\tPrimary Studio (I only see the distributor) \n",
    "\tDirector\n",
    "\tProducer\n",
    "\tActors\n",
    "\tComposer\n",
    "\tFinished Adding\n",
    "\tRunTime\n",
    "\tTotal Gross WorldWide\n",
    "\tCut out \n",
    "\tCritic Scores \n",
    "\t'''\n",
    "\t# Domestic Total Gross\n",
    "\tprint tree.xpath('//*[@id=\"body\"]//font[starts-with(normalize-space(.),\"Domestic Total Gross:\")]/b/text()')\n",
    "\t# Genre\n",
    "\tprint tree.xpath('//*[@id=\"body\"]//td[starts-with(normalize-space(.),\"Genre:\")]/b/text()')\n",
    "\t# Production Budget\n",
    "\tprint tree.xpath('//*[@id=\"body\"]//td[starts-with(normalize-space(.),\"Production Budget:\")]/b/text()')\n",
    "\t# MPAA Rating\n",
    "\tprint tree.xpath('//*[@id=\"body\"]//td[starts-with(normalize-space(.),\"MPAA Rating:\")]/b/text()')\n",
    "\t# Distributor\n",
    "\tprint tree.xpath('//*[@id=\"body\"]//td[starts-with(normalize-space(.),\"Distributor:\")]/b/a/text()')\n",
    "\t# Release Date\n",
    "\tprint tree.xpath('//*[@id=\"body\"]//td[starts-with(normalize-space(.),\"Release Date:\")]/b/nobr/a/text()')\n",
    "\t#Runtime\n",
    "\tprint str(tree.xpath('//*[@id=\"body\"]//td[starts-with(normalize-space(.),\"Runtime:\")]/b/text()'))\n",
    "\t# Movie Title\n",
    "\tprint tree.xpath('/html/head/title/text()')\n",
    "\n",
    "\t# Work around &nbsp; issue\n",
    "\ttree = html.fromstring(page.text.replace(\"&nbsp;\", \"\"))\n",
    "\t# Foreign Box Office\n",
    "\tprint tree.xpath('//*[@class=\"mp_box_content\"]//a[starts-with(normalize-space(.),\"Foreign:\")]/../following-sibling::*[1][name()=\"td\"]/text()')\n",
    "\t#Worldwide\n",
    "\tprint tree.xpath('//*[@class=\"mp_box_content\"]//b[starts-with(normalize-space(.),\"Worldwide:\")]/../following-sibling::*[1][name()=\"td\"]/b/text()')\n",
    "\t# Opening Weekend\n",
    "\tprint tree.xpath('//*[@class=\"mp_box_content\"]//a[starts-with(normalize-space(.),\"OpeningWeekend:\")]/../following-sibling::*/text()')\n",
    "\t# Widest Release\n",
    "\tprint tree.xpath('//*[@class=\"mp_box_content\"]//td[starts-with(normalize-space(.),\"WidestRelease:\")]/following-sibling::*/text()')\n",
    "\t# Close Date\n",
    "\tprint tree.xpath('//*[@class=\"mp_box_content\"]//td[starts-with(normalize-space(.),\"CloseDate:\")]/following-sibling::*/text()')\n",
    "\t# In Release\n",
    "\tprint tree.xpath('//*[@class=\"mp_box_content\"]//td[starts-with(normalize-space(.),\"In Release:\")]/following-sibling::*/text()')\n",
    "\t#Directors\n",
    "\t#TODO\n",
    "\t#Writers\n",
    "\t#TODO\n",
    "\t#Actors\n",
    "\t#TODO"
   ]
  },
  {
   "cell_type": "code",
   "execution_count": null,
   "metadata": {
    "collapsed": true
   },
   "outputs": [],
   "source": []
  }
 ],
 "metadata": {
  "kernelspec": {
   "display_name": "Python 2",
   "language": "python",
   "name": "python2"
  },
  "language_info": {
   "codemirror_mode": {
    "name": "ipython",
    "version": 2
   },
   "file_extension": ".py",
   "mimetype": "text/x-python",
   "name": "python",
   "nbconvert_exporter": "python",
   "pygments_lexer": "ipython2",
   "version": "2.7.11"
  }
 },
 "nbformat": 4,
 "nbformat_minor": 0
}
